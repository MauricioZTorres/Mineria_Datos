{
 "cells": [
  {
   "cell_type": "markdown",
   "id": "748e89bd-38d6-49e3-a9ee-fb51fda1f37a",
   "metadata": {},
   "source": [
    "## Statistic Test\n",
    "#### Prove that labeled data is different by runining ANOVA + T test or kruskall wallis test."
   ]
  },
  {
   "cell_type": "code",
   "execution_count": 1,
   "id": "14c2edd9-7202-4693-9f09-63fae254c3a1",
   "metadata": {},
   "outputs": [],
   "source": [
    "import pandas as pd"
   ]
  },
  {
   "cell_type": "code",
   "execution_count": 2,
   "id": "5c88f47d-f9cc-44d3-822c-dddaf74d5c50",
   "metadata": {},
   "outputs": [
    {
     "data": {
      "text/html": [
       "<div>\n",
       "<style scoped>\n",
       "    .dataframe tbody tr th:only-of-type {\n",
       "        vertical-align: middle;\n",
       "    }\n",
       "\n",
       "    .dataframe tbody tr th {\n",
       "        vertical-align: top;\n",
       "    }\n",
       "\n",
       "    .dataframe thead th {\n",
       "        text-align: right;\n",
       "    }\n",
       "</style>\n",
       "<table border=\"1\" class=\"dataframe\">\n",
       "  <thead>\n",
       "    <tr style=\"text-align: right;\">\n",
       "      <th></th>\n",
       "      <th>Rank</th>\n",
       "      <th>Name</th>\n",
       "      <th>Platform</th>\n",
       "      <th>Year</th>\n",
       "      <th>Genre</th>\n",
       "      <th>Publisher</th>\n",
       "      <th>NA_Sales</th>\n",
       "      <th>EU_Sales</th>\n",
       "      <th>JP_Sales</th>\n",
       "      <th>Other_Sales</th>\n",
       "      <th>Global_Sales</th>\n",
       "    </tr>\n",
       "  </thead>\n",
       "  <tbody>\n",
       "    <tr>\n",
       "      <th>0</th>\n",
       "      <td>1</td>\n",
       "      <td>Wii Sports</td>\n",
       "      <td>Wii</td>\n",
       "      <td>2006.0</td>\n",
       "      <td>Sports</td>\n",
       "      <td>Nintendo</td>\n",
       "      <td>41.49</td>\n",
       "      <td>29.02</td>\n",
       "      <td>3.77</td>\n",
       "      <td>8.46</td>\n",
       "      <td>82.74</td>\n",
       "    </tr>\n",
       "    <tr>\n",
       "      <th>1</th>\n",
       "      <td>2</td>\n",
       "      <td>Super Mario Bros.</td>\n",
       "      <td>NES</td>\n",
       "      <td>1985.0</td>\n",
       "      <td>Platform</td>\n",
       "      <td>Nintendo</td>\n",
       "      <td>29.08</td>\n",
       "      <td>3.58</td>\n",
       "      <td>6.81</td>\n",
       "      <td>0.77</td>\n",
       "      <td>40.24</td>\n",
       "    </tr>\n",
       "    <tr>\n",
       "      <th>2</th>\n",
       "      <td>3</td>\n",
       "      <td>Mario Kart Wii</td>\n",
       "      <td>Wii</td>\n",
       "      <td>2008.0</td>\n",
       "      <td>Racing</td>\n",
       "      <td>Nintendo</td>\n",
       "      <td>15.85</td>\n",
       "      <td>12.88</td>\n",
       "      <td>3.79</td>\n",
       "      <td>3.31</td>\n",
       "      <td>35.82</td>\n",
       "    </tr>\n",
       "    <tr>\n",
       "      <th>3</th>\n",
       "      <td>4</td>\n",
       "      <td>Wii Sports Resort</td>\n",
       "      <td>Wii</td>\n",
       "      <td>2009.0</td>\n",
       "      <td>Sports</td>\n",
       "      <td>Nintendo</td>\n",
       "      <td>15.75</td>\n",
       "      <td>11.01</td>\n",
       "      <td>3.28</td>\n",
       "      <td>2.96</td>\n",
       "      <td>33.00</td>\n",
       "    </tr>\n",
       "    <tr>\n",
       "      <th>4</th>\n",
       "      <td>5</td>\n",
       "      <td>Pokemon Red/Pokemon Blue</td>\n",
       "      <td>GB</td>\n",
       "      <td>1996.0</td>\n",
       "      <td>Role-Playing</td>\n",
       "      <td>Nintendo</td>\n",
       "      <td>11.27</td>\n",
       "      <td>8.89</td>\n",
       "      <td>10.22</td>\n",
       "      <td>1.00</td>\n",
       "      <td>31.37</td>\n",
       "    </tr>\n",
       "  </tbody>\n",
       "</table>\n",
       "</div>"
      ],
      "text/plain": [
       "   Rank                      Name Platform    Year         Genre Publisher  \\\n",
       "0     1                Wii Sports      Wii  2006.0        Sports  Nintendo   \n",
       "1     2         Super Mario Bros.      NES  1985.0      Platform  Nintendo   \n",
       "2     3            Mario Kart Wii      Wii  2008.0        Racing  Nintendo   \n",
       "3     4         Wii Sports Resort      Wii  2009.0        Sports  Nintendo   \n",
       "4     5  Pokemon Red/Pokemon Blue       GB  1996.0  Role-Playing  Nintendo   \n",
       "\n",
       "   NA_Sales  EU_Sales  JP_Sales  Other_Sales  Global_Sales  \n",
       "0     41.49     29.02      3.77         8.46         82.74  \n",
       "1     29.08      3.58      6.81         0.77         40.24  \n",
       "2     15.85     12.88      3.79         3.31         35.82  \n",
       "3     15.75     11.01      3.28         2.96         33.00  \n",
       "4     11.27      8.89     10.22         1.00         31.37  "
      ]
     },
     "execution_count": 2,
     "metadata": {},
     "output_type": "execute_result"
    }
   ],
   "source": [
    "data = pd.read_csv(\"dataset_limpio.csv\")\n",
    "\n",
    "data.head()"
   ]
  },
  {
   "cell_type": "code",
   "execution_count": 3,
   "id": "61133f8b-785d-4695-aec3-cc53ee8085aa",
   "metadata": {},
   "outputs": [],
   "source": [
    "import scipy.stats as stats\n",
    "from statsmodels.formula.api import ols\n",
    "from statsmodels.stats.anova import anova_lm"
   ]
  },
  {
   "cell_type": "code",
   "execution_count": 6,
   "id": "81bb6e51-1c80-41cf-9ecd-5ddc139abeb9",
   "metadata": {},
   "outputs": [],
   "source": [
    "anova_platforma = ols('Global_Sales ~ C(Platform)', data=data).fit()\n",
    "anova_platforma_resultados = anova_lm(anova_platform)\n",
    "\n",
    "# ANOVA \n",
    "anova_genero = ols('Global_Sales ~ C(Genre)', data=data).fit()\n",
    "anova_genero_resultados = anova_lm(anova_genero)\n",
    "\n",
    "# T-test: Global_Sales entre dos Platformas\n",
    "platforma = data.groupby('Platform')['Global_Sales']\n",
    "platforma_ttest = stats.ttest_ind(\n",
    "    platforma.get_group('Wii'), \n",
    "    platforma.get_group('NES'), \n",
    "    equal_var=False\n",
    ")\n",
    "\n",
    "# T-test: Global_Sales entre dos Generos\n",
    "generos = data.groupby('Genre')['Global_Sales']\n",
    "genero_ttest = stats.ttest_ind(\n",
    "    generos.get_group('Sports'), \n",
    "    generos.get_group('Platform'), \n",
    "    equal_var=False\n",
    ")"
   ]
  },
  {
   "cell_type": "code",
   "execution_count": 7,
   "id": "021dd7a3-e550-43ba-849b-0fba635495fc",
   "metadata": {},
   "outputs": [
    {
     "data": {
      "text/html": [
       "<div>\n",
       "<style scoped>\n",
       "    .dataframe tbody tr th:only-of-type {\n",
       "        vertical-align: middle;\n",
       "    }\n",
       "\n",
       "    .dataframe tbody tr th {\n",
       "        vertical-align: top;\n",
       "    }\n",
       "\n",
       "    .dataframe thead th {\n",
       "        text-align: right;\n",
       "    }\n",
       "</style>\n",
       "<table border=\"1\" class=\"dataframe\">\n",
       "  <thead>\n",
       "    <tr style=\"text-align: right;\">\n",
       "      <th></th>\n",
       "      <th>df</th>\n",
       "      <th>sum_sq</th>\n",
       "      <th>mean_sq</th>\n",
       "      <th>F</th>\n",
       "      <th>PR(&gt;F)</th>\n",
       "    </tr>\n",
       "  </thead>\n",
       "  <tbody>\n",
       "    <tr>\n",
       "      <th>C(Platform)</th>\n",
       "      <td>30.0</td>\n",
       "      <td>1447.579997</td>\n",
       "      <td>48.252667</td>\n",
       "      <td>20.600621</td>\n",
       "      <td>9.358994e-109</td>\n",
       "    </tr>\n",
       "    <tr>\n",
       "      <th>Residual</th>\n",
       "      <td>16509.0</td>\n",
       "      <td>38668.896207</td>\n",
       "      <td>2.342292</td>\n",
       "      <td>NaN</td>\n",
       "      <td>NaN</td>\n",
       "    </tr>\n",
       "  </tbody>\n",
       "</table>\n",
       "</div>"
      ],
      "text/plain": [
       "                  df        sum_sq    mean_sq          F         PR(>F)\n",
       "C(Platform)     30.0   1447.579997  48.252667  20.600621  9.358994e-109\n",
       "Residual     16509.0  38668.896207   2.342292        NaN            NaN"
      ]
     },
     "execution_count": 7,
     "metadata": {},
     "output_type": "execute_result"
    }
   ],
   "source": [
    "anova_platforma_resultados"
   ]
  },
  {
   "cell_type": "code",
   "execution_count": 8,
   "id": "e2658497-7205-4487-862b-d06142d6dc39",
   "metadata": {},
   "outputs": [
    {
     "data": {
      "text/html": [
       "<div>\n",
       "<style scoped>\n",
       "    .dataframe tbody tr th:only-of-type {\n",
       "        vertical-align: middle;\n",
       "    }\n",
       "\n",
       "    .dataframe tbody tr th {\n",
       "        vertical-align: top;\n",
       "    }\n",
       "\n",
       "    .dataframe thead th {\n",
       "        text-align: right;\n",
       "    }\n",
       "</style>\n",
       "<table border=\"1\" class=\"dataframe\">\n",
       "  <thead>\n",
       "    <tr style=\"text-align: right;\">\n",
       "      <th></th>\n",
       "      <th>df</th>\n",
       "      <th>sum_sq</th>\n",
       "      <th>mean_sq</th>\n",
       "      <th>F</th>\n",
       "      <th>PR(&gt;F)</th>\n",
       "    </tr>\n",
       "  </thead>\n",
       "  <tbody>\n",
       "    <tr>\n",
       "      <th>C(Genre)</th>\n",
       "      <td>11.0</td>\n",
       "      <td>478.237226</td>\n",
       "      <td>43.476111</td>\n",
       "      <td>18.128282</td>\n",
       "      <td>1.698249e-36</td>\n",
       "    </tr>\n",
       "    <tr>\n",
       "      <th>Residual</th>\n",
       "      <td>16528.0</td>\n",
       "      <td>39638.238978</td>\n",
       "      <td>2.398248</td>\n",
       "      <td>NaN</td>\n",
       "      <td>NaN</td>\n",
       "    </tr>\n",
       "  </tbody>\n",
       "</table>\n",
       "</div>"
      ],
      "text/plain": [
       "               df        sum_sq    mean_sq          F        PR(>F)\n",
       "C(Genre)     11.0    478.237226  43.476111  18.128282  1.698249e-36\n",
       "Residual  16528.0  39638.238978   2.398248        NaN           NaN"
      ]
     },
     "execution_count": 8,
     "metadata": {},
     "output_type": "execute_result"
    }
   ],
   "source": [
    "anova_genero_resultados"
   ]
  },
  {
   "cell_type": "code",
   "execution_count": 9,
   "id": "a8bb011d-2912-4520-9b96-9e474d94f840",
   "metadata": {},
   "outputs": [
    {
     "data": {
      "text/plain": [
       "TtestResult(statistic=-3.5596028734100416, pvalue=0.0005646379499878265, df=102.4930594881839)"
      ]
     },
     "execution_count": 9,
     "metadata": {},
     "output_type": "execute_result"
    }
   ],
   "source": [
    "platforma_ttest"
   ]
  },
  {
   "cell_type": "code",
   "execution_count": 10,
   "id": "5ff378bb-c089-4f1e-bdc6-ab9605864985",
   "metadata": {},
   "outputs": [
    {
     "data": {
      "text/plain": [
       "TtestResult(statistic=-3.8337098974636805, pvalue=0.00013207649516241808, df=1340.8405857773207)"
      ]
     },
     "execution_count": 10,
     "metadata": {},
     "output_type": "execute_result"
    }
   ],
   "source": [
    "genero_ttest"
   ]
  },
  {
   "cell_type": "markdown",
   "id": "47cea178-be89-49b6-992a-12e91073ad59",
   "metadata": {},
   "source": [
    "### Resumen de Resultados\n",
    "\n",
    "#### ANOVA:\n",
    "Ventas globales por plataforma:\n",
    "   - Estadístico F: 20.60\n",
    "   - Valor p: \\( 9.36 \\times 10^{-109} \\)\n",
    "   - nterpretación: Hay diferencias significativas en las ventas globales entre las distintas plataformas.\n",
    "\n",
    "Ventas globales por género:\n",
    "   - Estadístico F: 18.13\n",
    "   - Valor p: \\( 1.70 \\times 10^{-36} \\)\n",
    "   - Interpretación**: Hay diferencias significativas en las ventas globales entre los diferentes géneros de videojuegos.\n",
    "\n",
    "### Prueba T:\n",
    "Comparación de plataformas (Wii vs. NES):\n",
    "   - Estadístico T: -3.56\n",
    "   - Valor p: 0.00056\n",
    "   - Interpretación: Existe una diferencia significativa en las ventas globales entre las plataformas Wii y NES.\n",
    "\n",
    "Comparación de géneros (Deportes vs. Plataforma)**:\n",
    "   - Estadístico T: -3.83\n",
    "   - Valor p: 0.00013\n",
    "   - Interpretación: Existe una diferencia significativa en las ventas globales entre los géneros de Deportes y Plataforma.\n",
    "\n",
    "### Conclusión: \n",
    "   - Tanto el género como la plataforma influyen significativamente en las ventas globales.\n"
   ]
  }
 ],
 "metadata": {
  "kernelspec": {
   "display_name": "Python 3 (ipykernel)",
   "language": "python",
   "name": "python3"
  },
  "language_info": {
   "codemirror_mode": {
    "name": "ipython",
    "version": 3
   },
   "file_extension": ".py",
   "mimetype": "text/x-python",
   "name": "python",
   "nbconvert_exporter": "python",
   "pygments_lexer": "ipython3",
   "version": "3.12.7"
  }
 },
 "nbformat": 4,
 "nbformat_minor": 5
}
